{
 "cells": [
  {
   "cell_type": "code",
   "execution_count": 2,
   "metadata": {},
   "outputs": [
    {
     "name": "stdout",
     "output_type": "stream",
     "text": [
      "Requirement already satisfied: qrcode in c:\\users\\rehan\\anaconda3\\lib\\site-packages (7.3.1)\n",
      "Requirement already satisfied: colorama; platform_system == \"Windows\" in c:\\users\\rehan\\anaconda3\\lib\\site-packages (from qrcode) (0.4.4)\n"
     ]
    }
   ],
   "source": [
    "#Installing the QR Code Library\n",
    "!pip install qrcode"
   ]
  },
  {
   "cell_type": "code",
   "execution_count": 3,
   "metadata": {},
   "outputs": [
    {
     "name": "stdout",
     "output_type": "stream",
     "text": [
      "Requirement already satisfied: opencv-python in c:\\users\\rehan\\anaconda3\\lib\\site-packages (4.5.5.64)\n",
      "Requirement already satisfied: numpy>=1.17.3; python_version >= \"3.8\" in c:\\users\\rehan\\anaconda3\\lib\\site-packages (from opencv-python) (1.19.2)\n"
     ]
    }
   ],
   "source": [
    "# Installing Opencv Python Library\n",
    "!pip install opencv-python"
   ]
  },
  {
   "cell_type": "code",
   "execution_count": 4,
   "metadata": {},
   "outputs": [],
   "source": [
    "## QR Encode \n",
    "import qrcode ## Importing the qrcode library\n",
    "\n",
    "Education = \"https://www.youtube.com/watch?v=Ahnby2vUlxM\" ### Python Interview Question Video\n",
    "\n",
    "img = qrcode.make(Education) ## Generation of QRcode or To encode the code\n",
    "\n",
    "img.save(\"ManUtd.jpg\") ## Saving the QR code in a jpg file.\n",
    "\n",
    "\n",
    "Booking = \"Welcome to Southwest Airlines: - https://www.southwest.com/\"\n",
    "\n",
    "image = qrcode.make(Booking)\n",
    "\n",
    "image.save(\"SW.jpg\")"
   ]
  },
  {
   "cell_type": "code",
   "execution_count": 5,
   "metadata": {},
   "outputs": [
    {
     "name": "stdout",
     "output_type": "stream",
     "text": [
      "https://www.youtube.com/watch?v=Ahnby2vUlxM\n",
      "Welcome to Southwest Airlines: - https://www.southwest.com/\n"
     ]
    }
   ],
   "source": [
    "### QR Code Decoder\n",
    "\n",
    "import cv2\n",
    "\n",
    "E = cv2.QRCodeDetector()\n",
    "\n",
    "## To Load the QR Code\n",
    "val, points, straight_qrcode = E.detectAndDecode(cv2.imread(\"Edu-video.jpg\"))\n",
    "print(val)\n",
    "\n",
    "B = cv2.QRCodeDetector()\n",
    "val, points, straight_qrcode = B.detectAndDecode(cv2.imread(\"SW.jpg\"))\n",
    "print(val)\n"
   ]
  },
  {
   "cell_type": "code",
   "execution_count": null,
   "metadata": {},
   "outputs": [],
   "source": []
  }
 ],
 "metadata": {
  "kernelspec": {
   "display_name": "Python 3",
   "language": "python",
   "name": "python3"
  },
  "language_info": {
   "codemirror_mode": {
    "name": "ipython",
    "version": 3
   },
   "file_extension": ".py",
   "mimetype": "text/x-python",
   "name": "python",
   "nbconvert_exporter": "python",
   "pygments_lexer": "ipython3",
   "version": "3.8.5"
  }
 },
 "nbformat": 4,
 "nbformat_minor": 4
}
